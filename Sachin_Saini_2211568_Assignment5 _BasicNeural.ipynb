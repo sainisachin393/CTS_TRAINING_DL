{
  "nbformat": 4,
  "nbformat_minor": 0,
  "metadata": {
    "colab": {
      "provenance": [],
      "collapsed_sections": []
    },
    "kernelspec": {
      "name": "python3",
      "display_name": "Python 3"
    },
    "language_info": {
      "name": "python"
    },
    "accelerator": "GPU"
  },
  "cells": [
    {
      "cell_type": "markdown",
      "source": [
        "# The Basics : Training your first Neural Network\n",
        "\n",
        "1. We will use TensorFlow framewok\n",
        "2. Keras(API) is integrated into tf\n",
        "3. Train with given data\n",
        "4. Improve the model with added data"
      ],
      "metadata": {
        "id": "Ixsx93WAZ8HU"
      }
    },
    {
      "cell_type": "markdown",
      "source": [
        "Converting ceslsius to fahrenheit,\n",
        "$f=c*1.8+32\n",
        "\n",
        "Input(celsius)= (0,8,15,22,38)\n",
        "output(fahrenheit)=(46,59,72,100,?)"
      ],
      "metadata": {
        "id": "ckE_ATw6a3Pl"
      }
    },
    {
      "cell_type": "code",
      "execution_count": 1,
      "metadata": {
        "id": "iGK7B4lBYw5_"
      },
      "outputs": [],
      "source": [
        "import tensorflow as tf #tensorflow is google framework that will speed up the execution speed"
      ]
    },
    {
      "cell_type": "code",
      "source": [
        "tf.__version__ #version of the tensorflow"
      ],
      "metadata": {
        "colab": {
          "base_uri": "https://localhost:8080/",
          "height": 35
        },
        "id": "YMGH_Dcuby08",
        "outputId": "dc9f1eaa-8e42-4823-a52a-223747ca7fea"
      },
      "execution_count": 2,
      "outputs": [
        {
          "output_type": "execute_result",
          "data": {
            "text/plain": [
              "'2.9.2'"
            ],
            "application/vnd.google.colaboratory.intrinsic+json": {
              "type": "string"
            }
          },
          "metadata": {},
          "execution_count": 2
        }
      ]
    },
    {
      "cell_type": "code",
      "source": [
        "import numpy as np\n",
        "import logging \n",
        "logger=tf.get_logger()\n",
        "logger.setLevel(logging.ERROR)"
      ],
      "metadata": {
        "id": "8H04L2lwcY1c"
      },
      "execution_count": 3,
      "outputs": []
    },
    {
      "cell_type": "markdown",
      "source": [
        "# Setting Up Training Data"
      ],
      "metadata": {
        "id": "6qX_dOLeezYp"
      }
    },
    {
      "cell_type": "code",
      "source": [
        "celsius_q    = np.array([102.5,103,101,105,110,105,-40, -10,  0,  8, 15, 22,  38,45,55,60,70,55,76,87.8,226.8,65,86,76],  dtype=float)\n",
        "fahrenheit_a = np.array([216.5,217.4,213.8,221,230,221,-40,  14, 32, 46, 59, 72, 100,113,131,140,158,131,168.8,190.04,440.24,149,186.8,168.8],  dtype=float)\n",
        "for i,c in enumerate(celsius_q):\n",
        "  print(\"{} degrees Celsius = {} degrees Fahrenheit\".format(c, fahrenheit_a[i]))"
      ],
      "metadata": {
        "colab": {
          "base_uri": "https://localhost:8080/"
        },
        "id": "ZOEQ2A0Eeq4m",
        "outputId": "42a4f585-6f35-4272-cad1-322e54fd8447"
      },
      "execution_count": 120,
      "outputs": [
        {
          "output_type": "stream",
          "name": "stdout",
          "text": [
            "102.5 degrees Celsius = 216.5 degrees Fahrenheit\n",
            "103.0 degrees Celsius = 217.4 degrees Fahrenheit\n",
            "101.0 degrees Celsius = 213.8 degrees Fahrenheit\n",
            "105.0 degrees Celsius = 221.0 degrees Fahrenheit\n",
            "110.0 degrees Celsius = 230.0 degrees Fahrenheit\n",
            "105.0 degrees Celsius = 221.0 degrees Fahrenheit\n",
            "-40.0 degrees Celsius = -40.0 degrees Fahrenheit\n",
            "-10.0 degrees Celsius = 14.0 degrees Fahrenheit\n",
            "0.0 degrees Celsius = 32.0 degrees Fahrenheit\n",
            "8.0 degrees Celsius = 46.0 degrees Fahrenheit\n",
            "15.0 degrees Celsius = 59.0 degrees Fahrenheit\n",
            "22.0 degrees Celsius = 72.0 degrees Fahrenheit\n",
            "38.0 degrees Celsius = 100.0 degrees Fahrenheit\n",
            "45.0 degrees Celsius = 113.0 degrees Fahrenheit\n",
            "55.0 degrees Celsius = 131.0 degrees Fahrenheit\n",
            "60.0 degrees Celsius = 140.0 degrees Fahrenheit\n",
            "70.0 degrees Celsius = 158.0 degrees Fahrenheit\n",
            "55.0 degrees Celsius = 131.0 degrees Fahrenheit\n",
            "76.0 degrees Celsius = 168.8 degrees Fahrenheit\n",
            "87.8 degrees Celsius = 190.04 degrees Fahrenheit\n",
            "226.8 degrees Celsius = 440.24 degrees Fahrenheit\n",
            "65.0 degrees Celsius = 149.0 degrees Fahrenheit\n",
            "86.0 degrees Celsius = 186.8 degrees Fahrenheit\n",
            "76.0 degrees Celsius = 168.8 degrees Fahrenheit\n"
          ]
        }
      ]
    },
    {
      "cell_type": "markdown",
      "source": [
        "ML Terminology\n",
        "\n",
        "\n",
        "Feature= Input of our model(Celsius.)\n",
        "\n",
        "Label- Output our model(Fahrenheit)\n",
        "\n",
        "Example-A pair of input/output  value "
      ],
      "metadata": {
        "id": "nLoWi0Fmf17J"
      }
    },
    {
      "cell_type": "markdown",
      "source": [
        "# Creating the Model\n",
        " Using Dense Network.THis is simple problem so there will be single layer with single neuron.\n",
        "\n",
        " # Build a Layer\n",
        "\n",
        " We'll call the layer and create it by intantiating tf.keras.layers.\n",
        " Dense with the following\n",
        "\n",
        " * Input_shape[1]=this specifies input to this layer is single value.the shape is one dimensional array with one member\n",
        "\n",
        " * Units[1]= number of neurons in the layer.the number of neuron defines how many internal variables the layer has to try to learn how to solve the problem.Since this is the final layer,it is laso the model output-a single float value representing fahrenheit."
      ],
      "metadata": {
        "id": "KAiOuptugIeH"
      }
    },
    {
      "cell_type": "code",
      "source": [
        "l0=tf.keras.layers.Dense(units=1,input_shape=[1])"
      ],
      "metadata": {
        "id": "jwHHYnEdgFjE"
      },
      "execution_count": 121,
      "outputs": []
    },
    {
      "cell_type": "markdown",
      "source": [
        "# Assemble layers into the model\n",
        "Sequential layers takes a list of argument specifying calculation order from input to output means how it is transforming from input to output."
      ],
      "metadata": {
        "id": "ixDfepILhobR"
      }
    },
    {
      "cell_type": "code",
      "source": [
        "#We have only one layer l0\n",
        "model=tf.keras.Sequential([l0]) #defining the model"
      ],
      "metadata": {
        "id": "r2Sh-dmRfgxo"
      },
      "execution_count": 122,
      "outputs": []
    },
    {
      "cell_type": "code",
      "source": [
        "# Another way of making model\n",
        "#model=tf.keras.Sequential(tf.keras.layers.Dense(units=1,input_shape=[1])"
      ],
      "metadata": {
        "id": "RfWYZ9ovfs8O"
      },
      "execution_count": 123,
      "outputs": []
    },
    {
      "cell_type": "markdown",
      "source": [
        "Compiling the model with loss and optimizer function\n",
        "\n",
        ". Loss Function- its way of measuring the deviation or loss means how far is your predicted value from actual value.\n",
        "\n",
        ". Optimizer Function- Adjusting weights and bias to reduce the loss so that the model will be generalized."
      ],
      "metadata": {
        "id": "FNXALx-GifFb"
      }
    },
    {
      "cell_type": "code",
      "source": [
        "model.compile(loss='mean_squared_error',\n",
        "              optimizer=tf.keras.optimizers.Adam(0.1)) #0.1 is learning rate\n",
        "              # range is usually 0.001 and 0.1"
      ],
      "metadata": {
        "id": "tl0iFNWdiTQA"
      },
      "execution_count": 124,
      "outputs": []
    },
    {
      "cell_type": "markdown",
      "source": [
        "After compilation of model now model will be put for fit. first calculate the loss at each point then improving the loss.During the training optimizer function is used to calculate the adjustments to the models internal variable to internal variable until the model "
      ],
      "metadata": {
        "id": "v9m3pMELjeAW"
      }
    },
    {
      "cell_type": "code",
      "source": [
        "# Training the model\n",
        "history=model.fit(celsius_q,fahrenheit_a,epochs=840,verbose=False)\n",
        "print(\"Finished training the model\")\n",
        "\n"
      ],
      "metadata": {
        "colab": {
          "base_uri": "https://localhost:8080/"
        },
        "id": "cKXRGfOwjB0h",
        "outputId": "6d680088-da56-4a49-c87b-66985b33e6e9"
      },
      "execution_count": 128,
      "outputs": [
        {
          "output_type": "stream",
          "name": "stdout",
          "text": [
            "Finished training the model\n"
          ]
        }
      ]
    },
    {
      "cell_type": "markdown",
      "source": [
        "# Displaying training Steps\n"
      ],
      "metadata": {
        "id": "y_YOv3J_lidF"
      }
    },
    {
      "cell_type": "code",
      "source": [
        "import matplotlib.pyplot as plt\n",
        "plt.xlabel(\"Epoch Number\")\n",
        "plt.ylabel(\"Loss Magnitude\")\n",
        "plt.plot(history.history['loss'])"
      ],
      "metadata": {
        "colab": {
          "base_uri": "https://localhost:8080/",
          "height": 297
        },
        "id": "Kg60Kz33lE5m",
        "outputId": "2396d76f-f9bd-46e0-a493-6b9d9bc19d6d"
      },
      "execution_count": 129,
      "outputs": [
        {
          "output_type": "execute_result",
          "data": {
            "text/plain": [
              "[<matplotlib.lines.Line2D at 0x7fca91bac3d0>]"
            ]
          },
          "metadata": {},
          "execution_count": 129
        },
        {
          "output_type": "display_data",
          "data": {
            "text/plain": [
              "<Figure size 432x288 with 1 Axes>"
            ],
            "image/png": "[encoded data removed]"
          },
          "metadata": {
            "needs_background": "light"
          }
        }
      ]
    },
    {
      "cell_type": "markdown",
      "source": [
        "# Using model for prediction"
      ],
      "metadata": {
        "id": "cCaBHsXUmOcf"
      }
    },
    {
      "cell_type": "code",
      "source": [
        "print(model.predict([100.0]))"
      ],
      "metadata": {
        "colab": {
          "base_uri": "https://localhost:8080/"
        },
        "id": "w-rVKqpqlJDA",
        "outputId": "2b8ccf4b-67ce-434f-cbda-c041d3c4a4c3"
      },
      "execution_count": 130,
      "outputs": [
        {
          "output_type": "stream",
          "name": "stdout",
          "text": [
            "1/1 [==============================] - 0s 28ms/step\n",
            "[[211.99161]]\n"
          ]
        }
      ]
    },
    {
      "cell_type": "markdown",
      "source": [
        "Looking at the layers weights"
      ],
      "metadata": {
        "id": "d9g1MJJeoQ2e"
      }
    },
    {
      "cell_type": "code",
      "source": [
        "print(\"these are the layers variables:{}\".format(l0.get_weights()))"
      ],
      "metadata": {
        "colab": {
          "base_uri": "https://localhost:8080/"
        },
        "id": "C1vGitUTog2T",
        "outputId": "100c6885-4d7b-4846-ef00-16b6dd8b29bd"
      },
      "execution_count": 131,
      "outputs": [
        {
          "output_type": "stream",
          "name": "stdout",
          "text": [
            "these are the layers variables:[array([[1.8002931]], dtype=float32), array([31.962292], dtype=float32)]\n"
          ]
        }
      ]
    },
    {
      "cell_type": "markdown",
      "source": [
        "We can see that the neural network takes weights 1.8 and 31.96 which is exactly the same."
      ],
      "metadata": {
        "id": "e5OYHRtAo0bH"
      }
    },
    {
      "cell_type": "code",
      "source": [],
      "metadata": {
        "id": "p3yUtEn6puMx"
      },
      "execution_count": 12,
      "outputs": []
    },
    {
      "cell_type": "markdown",
      "source": [
        "# Making Multiple Layers"
      ],
      "metadata": {
        "id": "3bqtYQvLRKp2"
      }
    },
    {
      "cell_type": "code",
      "source": [
        "l0 = tf.keras.layers.Dense(units=4, input_shape=[1]) # Layer1\n",
        "l1 = tf.keras.layers.Dense(units=4) #layer 2\n",
        "l2 = tf.keras.layers.Dense(units=1) # layer 3\n",
        "model = tf.keras.Sequential([l0, l1, l2]) # defining the model\n",
        "model.compile(loss='mean_squared_error', optimizer=tf.keras.optimizers.Adam(0.1)) # optimizer adam will adjust weight and bias so that the loss will be reduced.\n",
        "model.fit(celsius_q, fahrenheit_a, epochs=500, verbose=False) # fitting the model\n",
        "print(\"Finished training the model\")\n",
        "print(model.predict([100.0]))\n",
        "print(\"Model predicts that 100 degrees Celsius is: {} degrees Fahrenheit\".format(model.predict([100.0])))\n",
        "print(\"These are the l0 variables: {}\".format(l0.get_weights()))\n",
        "print(\"These are the l1 variables: {}\".format(l1.get_weights()))\n",
        "print(\"These are the l2 variables: {}\".format(l2.get_weights()))\n"
      ],
      "metadata": {
        "colab": {
          "base_uri": "https://localhost:8080/"
        },
        "id": "dHx_6sRsrAYI",
        "outputId": "a689c943-dcc1-43b8-ad8e-28aac5cad288"
      },
      "execution_count": 133,
      "outputs": [
        {
          "output_type": "stream",
          "name": "stdout",
          "text": [
            "Finished training the model\n",
            "1/1 [==============================] - 0s 56ms/step\n",
            "[[211.99196]]\n",
            "1/1 [==============================] - 0s 29ms/step\n",
            "Model predicts that 100 degrees Celsius is: [[211.99196]] degrees Fahrenheit\n",
            "These are the l0 variables: [array([[-0.67779535, -0.15292515, -0.46212128, -0.45729804]],\n",
            "      dtype=float32), array([-5.1076207,  1.6839345, -4.8149223, -5.101531 ], dtype=float32)]\n",
            "These are the l1 variables: [array([[-0.25898814,  0.8674963 ,  1.0070459 ,  0.12949072],\n",
            "       [ 0.97182393,  0.17781612,  0.01236966,  0.41615075],\n",
            "       [-0.8526549 ,  0.08185916,  0.14686981, -0.8777571 ],\n",
            "       [-1.0230205 ,  0.35076576,  0.40742713, -0.00860707]],\n",
            "      dtype=float32), array([ 4.813195 , -3.782227 , -4.775313 ,  2.0175886], dtype=float32)]\n",
            "These are the l2 variables: [array([[ 0.6529518 ],\n",
            "       [-0.7418787 ],\n",
            "       [-0.58935326],\n",
            "       [ 0.24507307]], dtype=float32), array([4.2870455], dtype=float32)]\n"
          ]
        }
      ]
    },
    {
      "cell_type": "code",
      "source": [],
      "metadata": {
        "id": "wpwCqX9wrGfF"
      },
      "execution_count": 13,
      "outputs": []
    }
  ]
}