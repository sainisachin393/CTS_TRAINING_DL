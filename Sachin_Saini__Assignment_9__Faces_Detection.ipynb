{
 "cells": [
  {
   "cell_type": "code",
   "execution_count": 1,
   "metadata": {
    "id": "FcB9OAsW6bU7"
   },
   "outputs": [],
   "source": [
    "#importing all necessary libraries\n",
    "import numpy as np\n",
    "import cv2"
   ]
  },
  {
   "cell_type": "code",
   "execution_count": 2,
   "metadata": {
    "id": "If6KkGlE6bVB"
   },
   "outputs": [],
   "source": [
    "image_c=cv2.imread(\"Trudeau.png\") #impporting the image"
   ]
  },
  {
   "cell_type": "code",
   "execution_count": null,
   "metadata": {
    "id": "OuBFDQwP6_bO"
   },
   "outputs": [],
   "source": [
    "image_g=cv2.cvtColor(image_c,cv2.COLOR_BGR2GRAY) #converting RGB image to grayscale image"
   ]
  },
  {
   "cell_type": "code",
   "execution_count": null,
   "metadata": {
    "id": "7y9rAuYg6bVC"
   },
   "outputs": [],
   "source": [
    "cv2.imshow('Trudeau in Color',image_c) #looking the image\n",
    "cv2.waitKey() #this is for holding the image when it will be displayed on the screen\n",
    "cv2.destroyAllWindows() #this is for when we will press any key that image window will be closed"
   ]
  },
  {
   "cell_type": "code",
   "execution_count": null,
   "metadata": {
    "id": "9beUYgRg6bVD"
   },
   "outputs": [],
   "source": [
    "cv2.imshow('Trudeau in Grey',image_g)\n",
    "cv2.waitKey()\n",
    "cv2.destroyAllWindows()"
   ]
  },
  {
   "cell_type": "code",
   "execution_count": null,
   "metadata": {
    "id": "EU_wWV2i6bVD"
   },
   "outputs": [],
   "source": [
    "face_detection=cv2.CascadeClassifier(\"haarcascade_frontalface_default.xml\")  #Cascade will look for prominenet features only and other unimportant features will be removed"
   ]
  },
  {
   "cell_type": "code",
   "execution_count": null,
   "metadata": {
    "id": "GOQQeEBz6bVE"
   },
   "outputs": [],
   "source": [
    "faces=face_detection.detectMultiScale(image_c,1.1,5)  #for making square on the face"
   ]
  },
  {
   "cell_type": "code",
   "execution_count": null,
   "metadata": {
    "id": "Nb7gKcQt6bVE",
    "outputId": "1c9c839d-3ec6-4f75-d5a5-c73e97f0856a"
   },
   "outputs": [
    {
     "data": {
      "text/plain": [
       "(1, 4)"
      ]
     },
     "execution_count": 15,
     "metadata": {},
     "output_type": "execute_result"
    }
   ],
   "source": [
    "faces.shape #gives shape"
   ]
  },
  {
   "cell_type": "code",
   "execution_count": null,
   "metadata": {
    "id": "Kx50vOyF6bVG",
    "outputId": "fdd881be-2dfc-4f54-9d66-02cb88a84968"
   },
   "outputs": [
    {
     "data": {
      "text/plain": [
       "array([[332, 121, 208, 208]], dtype=int32)"
      ]
     },
     "execution_count": 16,
     "metadata": {},
     "output_type": "execute_result"
    }
   ],
   "source": [
    "faces #this is the coordinate for the area where it found the face"
   ]
  },
  {
   "cell_type": "code",
   "execution_count": null,
   "metadata": {
    "id": "KfJ_q2KI6bVG",
    "outputId": "edc1149d-388e-4cf7-9228-4abf22feb85a"
   },
   "outputs": [
    {
     "data": {
      "text/plain": [
       "array([121], dtype=int32)"
      ]
     },
     "execution_count": 17,
     "metadata": {},
     "output_type": "execute_result"
    }
   ],
   "source": [
    "faces[:,1]"
   ]
  },
  {
   "cell_type": "code",
   "execution_count": null,
   "metadata": {
    "id": "P5kAANtR6bVH"
   },
   "outputs": [],
   "source": [
    "x=int(faces[:,0])\n",
    "y=int(faces[:,1])\n",
    "w=int(faces[:,2])\n",
    "h=int(faces[:,3])\n",
    "\n",
    "cv2.rectangle(image_c,(x,y),(x+w,y+h),(0,255,255),3)\n",
    "cv2.imshow(\"Single  Face Detection\",image_c)\n",
    "cv2.waitKey(0)\n",
    "cv2.destroyAllWindows()"
   ]
  },
  {
   "cell_type": "markdown",
   "metadata": {
    "id": "T8CoPbhk6bVH"
   },
   "source": [
    "## Detecting Multiple faces"
   ]
  },
  {
   "cell_type": "code",
   "execution_count": null,
   "metadata": {
    "id": "ATKGZRv26bVK"
   },
   "outputs": [],
   "source": [
    "image_c=cv2.imread(\"Scientist.png\")"
   ]
  },
  {
   "cell_type": "code",
   "execution_count": null,
   "metadata": {
    "id": "nZ0Z-2fb6bVL"
   },
   "outputs": [],
   "source": [
    "image_g=cv2.cvtColor(image_c,cv2.COLOR_BGR2GRAY)"
   ]
  },
  {
   "cell_type": "code",
   "execution_count": null,
   "metadata": {
    "id": "8Sb4-JHB6bVM"
   },
   "outputs": [],
   "source": [
    "cv2.imshow('Scientist in Color',image_c)\n",
    "cv2.waitKey()\n",
    "cv2.destroyAllWindows()"
   ]
  },
  {
   "cell_type": "code",
   "execution_count": null,
   "metadata": {
    "id": "XLNBL1XX6bVM"
   },
   "outputs": [],
   "source": [
    "cv2.imshow('Scientist in greyscale',image_g)\n",
    "cv2.waitKey()\n",
    "cv2.destroyAllWindows()"
   ]
  },
  {
   "cell_type": "code",
   "execution_count": null,
   "metadata": {
    "id": "yaREnjax6bVM"
   },
   "outputs": [],
   "source": [
    "face_detection=cv2.CascadeClassifier(\"haarcascade_frontalface_default.xml\")\n",
    "faces=face_detection.detectMultiScale(image_c,1.1,5)\n",
    "for (x,y,w,h) in faces:\n",
    "    cv2.rectangle(image_c,(x,y),(x+w,y+h),(255,0,255),10)\n",
    "    cv2.imshow('Single face Detection',image_c)\n",
    "    cv2.waitKey(0)\n",
    "    cv2.destroyAllWindows()"
   ]
  },
  {
   "cell_type": "markdown",
   "metadata": {
    "id": "uBmoJos86bVN"
   },
   "source": [
    "## Detect eyes and faces"
   ]
  },
  {
   "cell_type": "code",
   "execution_count": null,
   "metadata": {
    "id": "1ojfbfIl6bVN"
   },
   "outputs": [],
   "source": [
    "image_c=cv2.imread(\"Trudeau.png\")"
   ]
  },
  {
   "cell_type": "code",
   "execution_count": null,
   "metadata": {
    "id": "Ddd_wIAr6bVN"
   },
   "outputs": [],
   "source": [
    "face_classifier=cv2.CascadeClassifier(\"haarcascade_frontalface_default.xml\")\n",
    "eye_classifier=cv2.CascadeClassifier(\"haarcascade_eye.xml\")"
   ]
  },
  {
   "cell_type": "code",
   "execution_count": null,
   "metadata": {
    "id": "jeCty5XP6bVO"
   },
   "outputs": [],
   "source": [
    "faces = face_classifier.detectMultiScale(image_c, 1.2, 5)\n",
    " \n",
    "for (x,y,w,h) in faces:\n",
    "    cv2.rectangle(image_c,(x,y),(x+w,y+h),(0,255,255), 3)\n",
    "    cv2.imshow('Trudeau Face and Eyes',image_c)\n",
    "    cv2.waitKey(0)\n",
    "\n",
    "    # Select the face\n",
    "    face_region = image_c[y:y+h, x:x+w]\n",
    "\n",
    "    eyes = eye_classifier.detectMultiScale(face_region)\n",
    "\n",
    "    for (eyes_x, eyes_y, eyes_w,eyes_h) in eyes:\n",
    "        cv2.rectangle(face_region,(eyes_x, eyes_y),(eyes_x + eyes_w, eyes_y + eyes_h), (0,255,0),3)\n",
    "        cv2.imshow('Trudeau Face and Eyes',image_c)\n",
    "        cv2.waitKey(0)\n",
    "\n",
    "cv2.destroyAllWindows()"
   ]
  },
  {
   "cell_type": "code",
   "execution_count": null,
   "metadata": {
    "id": "PaqQ-E_a6bVO"
   },
   "outputs": [],
   "source": [
    "cv2.imshow('Face Region',image_c[y:y+h,x:x+w])\n",
    "cv2.waitKey(0)\n",
    "cv2.destroyAllWindows()"
   ]
  },
  {
   "cell_type": "code",
   "execution_count": null,
   "metadata": {
    "id": "gQBG0DWz6bVO"
   },
   "outputs": [],
   "source": []
  },
  {
   "cell_type": "code",
   "execution_count": null,
   "metadata": {
    "id": "Q5Gc64XH6bVO"
   },
   "outputs": [],
   "source": []
  }
 ],
 "metadata": {
  "colab": {
   "provenance": []
  },
  "kernelspec": {
   "display_name": "Python 3 (ipykernel)",
   "language": "python",
   "name": "python3"
  },
  "language_info": {
   "codemirror_mode": {
    "name": "ipython",
    "version": 3
   },
   "file_extension": ".py",
   "mimetype": "text/x-python",
   "name": "python",
   "nbconvert_exporter": "python",
   "pygments_lexer": "ipython3",
   "version": "3.9.12"
  }
 },
 "nbformat": 4,
 "nbformat_minor": 1
}
