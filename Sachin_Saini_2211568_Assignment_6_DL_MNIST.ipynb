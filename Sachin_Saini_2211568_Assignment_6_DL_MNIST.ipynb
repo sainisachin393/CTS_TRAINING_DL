{
  "nbformat": 4,
  "nbformat_minor": 0,
  "metadata": {
    "colab": {
      "provenance": []
    },
    "kernelspec": {
      "name": "python3",
      "display_name": "Python 3"
    },
    "language_info": {
      "name": "python"
    },
    "accelerator": "GPU"
  },
  "cells": [
    {
      "cell_type": "code",
      "execution_count": 1,
      "metadata": {
        "id": "jkLmELEJznqJ"
      },
      "outputs": [],
      "source": [
        "import tensorflow as tf #importing tensorflow library"
      ]
    },
    {
      "cell_type": "code",
      "source": [
        "#for plotting the losses inline in this notebook"
      ],
      "metadata": {
        "id": "zK_ni9eGDOxQ"
      },
      "execution_count": 2,
      "outputs": []
    },
    {
      "cell_type": "code",
      "source": [
        "%matplotlib inline "
      ],
      "metadata": {
        "id": "vKW13AxoDQbM"
      },
      "execution_count": 3,
      "outputs": []
    },
    {
      "cell_type": "markdown",
      "source": [
        "First model- Building fully connected neural network\n",
        "\n",
        "Second Model- Building Convolutional layer"
      ],
      "metadata": {
        "id": "TjAgbQ76EKGS"
      }
    },
    {
      "cell_type": "markdown",
      "source": [
        "# First Model"
      ],
      "metadata": {
        "id": "bDlYbYjFz3fp"
      }
    },
    {
      "cell_type": "markdown",
      "source": [
        "# **The Task For The AI**\n",
        "\n",
        "THe MNIST dataset contains 60000 images as training and 10000 for test set.We will use the keras python API with tensorflow as the backend."
      ],
      "metadata": {
        "id": "Bp8ulzQgESSU"
      }
    },
    {
      "cell_type": "code",
      "source": [
        "#importing all the necessary libraries\n",
        "import numpy as np #importing numpy for array operations\n",
        "import matplotlib.pyplot as plt #library which will be used for plotting\n",
        "import random # for generating random numbers\n",
        "from keras.datasets import mnist  # MNIST dataset \n",
        "from keras.models import Sequential #Model to be used\n",
        "from keras.layers.core import Dense,Dropout,Activation #different layers which will be used in the model\n",
        "from keras.utils import np_utils #"
      ],
      "metadata": {
        "id": "F-vyT7nLDjjM"
      },
      "execution_count": 4,
      "outputs": []
    },
    {
      "cell_type": "markdown",
      "source": [
        "# Why we will use keras.utils import np_utils?\n",
        "\n",
        "--> A numpy array or vector which will have integers that represents the different categories, will be converted into numpy array or a matrix which will have binary valye and has same column equal to number of categories in the data.\n",
        "\n"
      ],
      "metadata": {
        "id": "ZPtz_R15030N"
      }
    },
    {
      "cell_type": "markdown",
      "source": [
        "Loading Training Data\n"
      ],
      "metadata": {
        "id": "FtGKa0BvH9gb"
      }
    },
    {
      "cell_type": "code",
      "source": [
        "# The MNIST data is split between 60000 simages (28px x 28px)\n",
        "#60000 training images and 10000 test images (28px x 28px)\n",
        "(X_train,y_train),(X_test,y_test)=mnist.load_data()\n",
        "print(\"X_train shape\",X_train.shape)\n",
        "print(\"y_train shape\",y_train.shape)\n",
        "print(\"X_test shape\",X_test.shape)\n",
        "print(\"y_test shape\",y_test.shape)"
      ],
      "metadata": {
        "colab": {
          "base_uri": "https://localhost:8080/"
        },
        "id": "n1qiHKJFFEeU",
        "outputId": "08a583c5-75e7-401c-eece-577b005ea0ef"
      },
      "execution_count": 5,
      "outputs": [
        {
          "output_type": "stream",
          "name": "stdout",
          "text": [
            "Downloading data from https://storage.googleapis.com/tensorflow/tf-keras-datasets/mnist.npz\n",
            "11490434/11490434 [==============================] - 0s 0us/step\n",
            "X_train shape (60000, 28, 28)\n",
            "y_train shape (60000,)\n",
            "X_test shape (10000, 28, 28)\n",
            "y_test shape (10000,)\n"
          ]
        }
      ]
    },
    {
      "cell_type": "code",
      "source": [
        "#Plotting sample images\n",
        "plt.figure(figsize=(10,10))\n",
        "#plt.rcParams['figure.figsize']=(9,9)\n",
        "for i in range(3):\n",
        "  plt.subplot(3,3,i+1)\n",
        "  num=random.randint(0,len(X_train))\n",
        "  plt.imshow(X_train[num],cmap='gray',interpolation='none') #here inplace of plt.plot plt.imshow is used because we are having images which are in the forms of vectore\n",
        "  plt.title(\"class {}\".format(y_train[num]))\n",
        "plt.tight_layout()"
      ],
      "metadata": {
        "colab": {
          "base_uri": "https://localhost:8080/",
          "height": 273
        },
        "id": "cZySAXT9IeKX",
        "outputId": "e2b9b463-9a27-4583-ef42-1c9e5b3d5f92"
      },
      "execution_count": 6,
      "outputs": [
        {
          "output_type": "display_data",
          "data": {
            "text/plain": [
              "<Figure size 720x720 with 3 Axes>"
            ],
            "image/png": "[encoded data removed]"
          },
          "metadata": {
            "needs_background": "light"
          }
        }
      ]
    },
    {
      "cell_type": "code",
      "source": [
        "# just a little function for printing a matrix of image\n",
        "def matprint(mat, fmt=\"g\"):\n",
        "    col_maxes = [max([len((\"{:\"+fmt+\"}\").format(x)) for x in col]) for col in mat.T]\n",
        "    for x in mat:\n",
        "        for i, y in enumerate(x):\n",
        "            print((\"{:\"+str(col_maxes[i])+fmt+\"}\").format(y), end=\"  \")\n",
        "        print(\"\")\n",
        "# now print!        \n",
        "matprint(X_train[num])"
      ],
      "metadata": {
        "colab": {
          "base_uri": "https://localhost:8080/"
        },
        "id": "5dGJDCD5J0Jh",
        "outputId": "5df8a32f-05f5-4edf-c03d-ec074bea55dc"
      },
      "execution_count": 7,
      "outputs": [
        {
          "output_type": "stream",
          "name": "stdout",
          "text": [
            "0  0  0  0  0   0    0    0    0    0    0    0    0    0    0    0    0    0    0    0   0  0  0  0  0  0  0  0  \n",
            "0  0  0  0  0   0    0    0    0    0    0    0    0    0    0    0    0    0    0    0   0  0  0  0  0  0  0  0  \n",
            "0  0  0  0  0   0    0    0    0    0    0    0    0    0    0    0    0    0    0    0   0  0  0  0  0  0  0  0  \n",
            "0  0  0  0  0   0    0    0    0    0    0    0    0    0    0    0    0    0    0    0   0  0  0  0  0  0  0  0  \n",
            "0  0  0  0  0   0    0    0    0    0    0    0    0    0    0   57  141  198  255  198   0  0  0  0  0  0  0  0  \n",
            "0  0  0  0  0   0    0    0    0    0    0    0   29  114  226  255  255  255  255  255  86  0  0  0  0  0  0  0  \n",
            "0  0  0  0  0   0    0    0    0    0    0   29  226  255  255  255  255  255  255  255  86  0  0  0  0  0  0  0  \n",
            "0  0  0  0  0   0    0    0    0    0    0  141  255  255  255  255  141   29  141  255  57  0  0  0  0  0  0  0  \n",
            "0  0  0  0  0   0    0    0    0    0    0  226  255  170   86    0    0   29  226  226   0  0  0  0  0  0  0  0  \n",
            "0  0  0  0  0   0    0    0    0    0    0   57    0    0    0    0    0  170  255  141   0  0  0  0  0  0  0  0  \n",
            "0  0  0  0  0   0    0    0    0    0    0    0    0    0    0   57  170  255  198    0   0  0  0  0  0  0  0  0  \n",
            "0  0  0  0  0   0    0    0    0    0    0    0    0   29  170  255  255  255  170    0   0  0  0  0  0  0  0  0  \n",
            "0  0  0  0  0   0    0    0    0    0    0    0    0  141  255  255  255  255  198    0   0  0  0  0  0  0  0  0  \n",
            "0  0  0  0  0   0    0    0    0    0    0    0   29  255  255  226  198  255  255   57   0  0  0  0  0  0  0  0  \n",
            "0  0  0  0  0   0    0    0    0    0    0    0   86  255  141    0    0  141  255   86   0  0  0  0  0  0  0  0  \n",
            "0  0  0  0  0   0    0    0    0    0    0    0    0    0    0    0    0   86  255   86   0  0  0  0  0  0  0  0  \n",
            "0  0  0  0  0   0    0    0    0    0    0    0    0    0    0    0    0   86  255   86   0  0  0  0  0  0  0  0  \n",
            "0  0  0  0  0   0    0    0    0    0    0    0    0    0    0    0    0  198  226    0   0  0  0  0  0  0  0  0  \n",
            "0  0  0  0  0   0   86   86   86   57    0    0    0    0    0    0  114  255  141    0   0  0  0  0  0  0  0  0  \n",
            "0  0  0  0  0  86  255  255  255  255  114    0    0    0    0   86  255  255   29    0   0  0  0  0  0  0  0  0  \n",
            "0  0  0  0  0  86  255  255  255  198    0    0    0   29  170  255  255  141    0    0   0  0  0  0  0  0  0  0  \n",
            "0  0  0  0  0  86  255  255  255  255  255  198  170  255  255  255  170    0    0    0   0  0  0  0  0  0  0  0  \n",
            "0  0  0  0  0   0  170  255  255  255  255  255  255  255  255  114    0    0    0    0   0  0  0  0  0  0  0  0  \n",
            "0  0  0  0  0   0    0   86  198  255  255  255  226  141   57    0    0    0    0    0   0  0  0  0  0  0  0  0  \n",
            "0  0  0  0  0   0    0    0    0    0    0    0    0    0    0    0    0    0    0    0   0  0  0  0  0  0  0  0  \n",
            "0  0  0  0  0   0    0    0    0    0    0    0    0    0    0    0    0    0    0    0   0  0  0  0  0  0  0  0  \n",
            "0  0  0  0  0   0    0    0    0    0    0    0    0    0    0    0    0    0    0    0   0  0  0  0  0  0  0  0  \n",
            "0  0  0  0  0   0    0    0    0    0    0    0    0    0    0    0    0    0    0    0   0  0  0  0  0  0  0  0  \n"
          ]
        }
      ]
    },
    {
      "cell_type": "markdown",
      "source": [
        "Each pixel is 8 bit integer from 0-255.o for black and 255 is full white.\n",
        "RGB -computer channels.Each of these channels also takes 8 bit integer-24 total -16,777216."
      ],
      "metadata": {
        "id": "K_v177tiLTXz"
      }
    },
    {
      "cell_type": "markdown",
      "source": [
        "Normalizing the 28x28,we build our network to accept 784 length vector.\n",
        "\n",
        "Each image should be reshaped (flattened) into vector because in dl inputs should be in 1d . We will normalize(Normalization) the input into range[0-1] rather than [0-255] because if we will not normalize then the value will come in negative."
      ],
      "metadata": {
        "id": "4Ph2UEMbM_tJ"
      }
    },
    {
      "cell_type": "code",
      "source": [
        "\n",
        "X_train=X_train.reshape(60000,784) # reshape  to one dimension vector from 60000 28 x 28 matrices into 60000 784 vector\n",
        "X_test=X_test.reshape(10000,784)   # reshape 10000 28 x 28 matrices into 784 vector\n",
        "\n",
        "X_train=X_train.astype('float32') # changing integer into 32 bit floating point\n",
        "X_test=X_test.astype('float32')\n",
        "# NOrmalizing here formulae is different to ml the input will be between 0 and 1\n",
        "X_train/=255\n",
        "X_test/=255\n",
        "\n",
        "print(\"Training matrix shape\",X_train.shape)\n",
        "print(\"testing matrix shape\",X_test.shape)\n"
      ],
      "metadata": {
        "colab": {
          "base_uri": "https://localhost:8080/"
        },
        "id": "SMLuHkx1LpUE",
        "outputId": "626d0894-c38a-4ed9-a7eb-5010916d58bc"
      },
      "execution_count": 8,
      "outputs": [
        {
          "output_type": "stream",
          "name": "stdout",
          "text": [
            "Training matrix shape (60000, 784)\n",
            "testing matrix shape (10000, 784)\n"
          ]
        }
      ]
    },
    {
      "cell_type": "markdown",
      "source": [
        "# Why we need encoding for labels?"
      ],
      "metadata": {
        "id": "KCD93FwCPnMj"
      }
    },
    {
      "cell_type": "markdown",
      "source": [
        "Modifying our classes into one hot format,i.e\n",
        "\n",
        "A classification model with multiple classes doesn't work well if you don't have classes distributed in a binary matrix.\n",
        "\n",
        "Suppose you have three clasess, the vector goes like this:\n",
        "\n",
        "[1, 0, 0] = class 1\n",
        "\n",
        "[0, 1, 0] = class 2\n",
        "\n",
        "[0, 0, 1] = class 3\n",
        "\n",
        "You use to_categorical to transform your training data before you pass it to your model.\n",
        "\n",
        "If your training data uses classes as numbers, to_categorical will transform those numbers in proper vectors for using with models. You can't simply train a classification model without that.It will help the model in easily classifying the labels."
      ],
      "metadata": {
        "id": "aJJMpyjTPUgr"
      }
    },
    {
      "cell_type": "code",
      "source": [],
      "metadata": {
        "id": "BUvQT5sgMq_y"
      },
      "execution_count": 8,
      "outputs": []
    },
    {
      "cell_type": "code",
      "source": [
        "nb_classes=10 # number of unique digits\n",
        "\n",
        "Y_train=np_utils.to_categorical(y_train,nb_classes)\n",
        "Y_test=np_utils.to_categorical(y_test,nb_classes)\n"
      ],
      "metadata": {
        "id": "Up_8vh0lOysy"
      },
      "execution_count": 9,
      "outputs": []
    },
    {
      "cell_type": "markdown",
      "source": [
        "# Building 3 fully connected layers"
      ],
      "metadata": {
        "id": "0H0QYmRXQSYt"
      }
    },
    {
      "cell_type": "code",
      "source": [
        "# The sequential model is a linear stack of layer\n",
        "model=Sequential() #making the model"
      ],
      "metadata": {
        "id": "aPrhjERtP_W6"
      },
      "execution_count": 10,
      "outputs": []
    },
    {
      "cell_type": "markdown",
      "source": [
        "# The first hidden layer"
      ],
      "metadata": {
        "id": "5Vt1_NRJQsB_"
      }
    },
    {
      "cell_type": "markdown",
      "source": [
        "The first hidden layer is set of 512 nodes\n",
        "Each node will receive an element from each input vector and apply some "
      ],
      "metadata": {
        "id": "8FzuhB3dQ2js"
      }
    },
    {
      "cell_type": "code",
      "source": [
        "model.add(Dense(512,input_shape=(784,))) #adding first layer to our model   #input=784 pixel is our input"
      ],
      "metadata": {
        "id": "HkPbiO5HQt8e"
      },
      "execution_count": 11,
      "outputs": []
    },
    {
      "cell_type": "code",
      "source": [
        "#An activation is a non linear function that is applied to the output\n",
        "#In Relu positive values are unchanged\n",
        "# Relu converts all the negative inputs to the nodes to zero\n",
        "model.add(Activation('relu')) # relu--> f(x)=max(0,x)"
      ],
      "metadata": {
        "id": "uoVVS_z7Q15M"
      },
      "execution_count": 12,
      "outputs": []
    },
    {
      "cell_type": "code",
      "source": [
        "# Dropout zeros a selection of random outputs\n",
        "#dropout helps protect the model from memorizing \n",
        "# or overfitting the training data\n",
        "\n",
        "model.add(Dropout(0.2)) # normal range of dropout is 0-0.5"
      ],
      "metadata": {
        "id": "KF-CmSzVRhJV"
      },
      "execution_count": 13,
      "outputs": []
    },
    {
      "cell_type": "markdown",
      "source": [
        "# Why do we use dropout?\n",
        "\n",
        "--> Dropout is a regularization technique which prevents neural network from overfitting. Regularization techniques methods like L1 and L2 reduces overfitting by modifying the cost function.On,the other hand dropuout modifies the network itslef.\n",
        "\n",
        "Dropout randomly drops neurons during training.This means their will be no contribution in the forward pass and any weights updates will not be applied in the backpropogation.It means it will forces other neurons to make predictions for the missing neurons.\n",
        "\n",
        "--> Dropout is applied for only training not for validation."
      ],
      "metadata": {
        "id": "-DbRU1986i86"
      }
    },
    {
      "cell_type": "markdown",
      "source": [
        "Adding second Hiddenlayer\n",
        "Instead of each 512 node receiving 784 input from input image data thy receive 512 inputs from output of first 512 node layer\n",
        "\n",
        "\n",
        "\n"
      ],
      "metadata": {
        "id": "biDyJsaKTvrJ"
      }
    },
    {
      "cell_type": "code",
      "source": [
        "model.add(Dense(512))\n",
        "model.add(Activation('relu'))\n",
        "model.add(Dropout(0.2))"
      ],
      "metadata": {
        "id": "9mpP1fwgTUV-"
      },
      "execution_count": 14,
      "outputs": []
    },
    {
      "cell_type": "markdown",
      "source": [
        "Final Layer\n",
        "\n",
        "\n",
        "The final layer of 10 neurons will be fully connected to the previous hidden layer"
      ],
      "metadata": {
        "id": "rboc0qDFUOIO"
      }
    },
    {
      "cell_type": "code",
      "source": [
        "# There will be 10 neurons\n",
        "model.add(Dense(10))"
      ],
      "metadata": {
        "id": "dKKBEXOQT8VF"
      },
      "execution_count": 15,
      "outputs": []
    },
    {
      "cell_type": "code",
      "source": [
        "#As the problem is of multiclassification problem so we will apply softmax  \n",
        "model.add(Activation('softmax')) # softmax will give the prob between 0 and 1 for all the labels but sum of all the probability will be 1"
      ],
      "metadata": {
        "id": "6Vm4ARbBUVHo"
      },
      "execution_count": 16,
      "outputs": []
    },
    {
      "cell_type": "markdown",
      "source": [
        "What are trainable parameters and non trainable parameters in the summary?\n",
        "\n",
        " non-trainable parameters are the ones that are not trained using gradient descent.\n",
        "\n",
        "Trainable parameters are those whose values is modified by the gradient descent"
      ],
      "metadata": {
        "id": "RDXnrxNWVrIF"
      }
    },
    {
      "cell_type": "code",
      "source": [],
      "metadata": {
        "id": "f_8Skij0-7Xb"
      },
      "execution_count": null,
      "outputs": []
    },
    {
      "cell_type": "code",
      "source": [
        "# Summarize the model\n",
        "model.summary()"
      ],
      "metadata": {
        "colab": {
          "base_uri": "https://localhost:8080/"
        },
        "id": "rEcIjb4jUpXQ",
        "outputId": "dc2eed29-1649-4519-b7a5-304fbe2b1db6"
      },
      "execution_count": 17,
      "outputs": [
        {
          "output_type": "stream",
          "name": "stdout",
          "text": [
            "Model: \"sequential\"\n",
            "_________________________________________________________________\n",
            " Layer (type)                Output Shape              Param #   \n",
            "=================================================================\n",
            " dense (Dense)               (None, 512)               401920    \n",
            "                                                                 \n",
            " activation (Activation)     (None, 512)               0         \n",
            "                                                                 \n",
            " dropout (Dropout)           (None, 512)               0         \n",
            "                                                                 \n",
            " dense_1 (Dense)             (None, 512)               262656    \n",
            "                                                                 \n",
            " activation_1 (Activation)   (None, 512)               0         \n",
            "                                                                 \n",
            " dropout_1 (Dropout)         (None, 512)               0         \n",
            "                                                                 \n",
            " dense_2 (Dense)             (None, 10)                5130      \n",
            "                                                                 \n",
            " activation_2 (Activation)   (None, 10)                0         \n",
            "                                                                 \n",
            "=================================================================\n",
            "Total params: 669,706\n",
            "Trainable params: 669,706\n",
            "Non-trainable params: 0\n",
            "_________________________________________________________________\n"
          ]
        }
      ]
    },
    {
      "cell_type": "code",
      "source": [
        "# Compiling the model\n",
        "# Cost function- Categorical cross entropy is a loss function which will be use here.because we have multiple closs\n",
        "#It is logg loss function well suited to comparing two probabilit distributions.\n",
        "# it calculates how far predicted result is from actual results.\n"
      ],
      "metadata": {
        "id": "A9TsX05WVV7P"
      },
      "execution_count": 18,
      "outputs": []
    },
    {
      "cell_type": "code",
      "source": [
        "#optimizer helps you how quickly your models learns through gradient descent.The step size will be decided by learning rate.\n",
        "model.compile(loss=\"categorical_crossentropy\",\n",
        "              optimizer='adam'\n",
        ",metrics=['accuracy'])"
      ],
      "metadata": {
        "id": "q_bGb2OwW-Tc"
      },
      "execution_count": 19,
      "outputs": []
    },
    {
      "cell_type": "code",
      "source": [
        "#Train the model\n",
        "model.fit(X_train,Y_train,\n",
        "          batch_size=128,epochs=10\n",
        "          ,verbose=1)"
      ],
      "metadata": {
        "colab": {
          "base_uri": "https://localhost:8080/"
        },
        "id": "mLUl6L7qX_pt",
        "outputId": "0a104994-caad-4bf5-d694-310132452db6"
      },
      "execution_count": 20,
      "outputs": [
        {
          "output_type": "stream",
          "name": "stdout",
          "text": [
            "Epoch 1/10\n",
            "469/469 [==============================] - 4s 3ms/step - loss: 0.2515 - accuracy: 0.9250\n",
            "Epoch 2/10\n",
            "469/469 [==============================] - 2s 3ms/step - loss: 0.1019 - accuracy: 0.9689\n",
            "Epoch 3/10\n",
            "469/469 [==============================] - 2s 3ms/step - loss: 0.0730 - accuracy: 0.9768\n",
            "Epoch 4/10\n",
            "469/469 [==============================] - 1s 3ms/step - loss: 0.0539 - accuracy: 0.9830\n",
            "Epoch 5/10\n",
            "469/469 [==============================] - 1s 3ms/step - loss: 0.0471 - accuracy: 0.9841\n",
            "Epoch 6/10\n",
            "469/469 [==============================] - 1s 3ms/step - loss: 0.0396 - accuracy: 0.9873\n",
            "Epoch 7/10\n",
            "469/469 [==============================] - 1s 3ms/step - loss: 0.0331 - accuracy: 0.9890\n",
            "Epoch 8/10\n",
            "469/469 [==============================] - 1s 3ms/step - loss: 0.0315 - accuracy: 0.9890\n",
            "Epoch 9/10\n",
            "469/469 [==============================] - 1s 3ms/step - loss: 0.0297 - accuracy: 0.9905\n",
            "Epoch 10/10\n",
            "469/469 [==============================] - 2s 3ms/step - loss: 0.0258 - accuracy: 0.9913\n"
          ]
        },
        {
          "output_type": "execute_result",
          "data": {
            "text/plain": [
              "<keras.callbacks.History at 0x7f7bb0363410>"
            ]
          },
          "metadata": {},
          "execution_count": 20
        }
      ]
    },
    {
      "cell_type": "code",
      "source": [
        "#Evaluating Model Accuracy\n",
        "score=model.evaluate(X_test,Y_test)\n",
        "print('Test score:',score[0])\n",
        "print('Test accuracy:',score[1])"
      ],
      "metadata": {
        "colab": {
          "base_uri": "https://localhost:8080/"
        },
        "id": "fEcsfxe0ZTQD",
        "outputId": "836b6daa-60c4-46e0-db91-568956280f48"
      },
      "execution_count": 21,
      "outputs": [
        {
          "output_type": "stream",
          "name": "stdout",
          "text": [
            "313/313 [==============================] - 1s 3ms/step - loss: 0.0672 - accuracy: 0.9825\n",
            "Test score: 0.06723090261220932\n",
            "Test accuracy: 0.9825000166893005\n"
          ]
        }
      ]
    },
    {
      "cell_type": "markdown",
      "source": [
        "# Inspecting the output"
      ],
      "metadata": {
        "id": "ZUS3PCAT6pMD"
      }
    },
    {
      "cell_type": "code",
      "source": [
        "predicted_x=model.predict(X_test)\n",
        "predicted_classes=np.argmax(predicted_x,axis=1)\n",
        "\n",
        "# check whether item got wrong/right\n",
        "correct_indices=np.nonzero(predicted_classes==y_test)[0]\n",
        "incorrect_indices=np.nonzero(predicted_classes!=y_test)[0]"
      ],
      "metadata": {
        "colab": {
          "base_uri": "https://localhost:8080/"
        },
        "id": "mvIvsebE6dzF",
        "outputId": "273038dd-9497-4216-abf6-8d61969fdfe3"
      },
      "execution_count": 22,
      "outputs": [
        {
          "output_type": "stream",
          "name": "stdout",
          "text": [
            "313/313 [==============================] - 1s 2ms/step\n"
          ]
        }
      ]
    },
    {
      "cell_type": "code",
      "source": [
        "#plotting the images\n",
        "plt.figure()\n",
        "for i, correct in enumerate(correct_indices[:9]):\n",
        "    plt.subplot(3,3,i+1)\n",
        "    plt.imshow(X_test[correct].reshape(28,28), cmap='gray', interpolation='none')\n",
        "    plt.title(\"Predicted {}, Class {}\".format(predicted_classes[correct], y_test[correct]))\n",
        "    \n",
        "plt.tight_layout()\n",
        "    \n"
      ],
      "metadata": {
        "colab": {
          "base_uri": "https://localhost:8080/",
          "height": 297
        },
        "id": "XxcQwcxY6yfU",
        "outputId": "520e98d2-25d5-4c61-e0df-b4cebd67986a"
      },
      "execution_count": 23,
      "outputs": [
        {
          "output_type": "display_data",
          "data": {
            "text/plain": [
              "<Figure size 432x288 with 9 Axes>"
            ],
            "image/png": "[encoded data removed]"
          },
          "metadata": {
            "needs_background": "light"
          }
        }
      ]
    },
    {
      "cell_type": "markdown",
      "source": [
        "Training with batch size\n",
        "How does batch size to 10000 affect training time and test accuracy?\n",
        "How about a batch size of 32?\n",
        "\n",
        "If we will increase the batch size to 10000 definetly the training size will decrease but there will be drop in accuracy also because this is not optimum batch size.It will miss some of the characterstics of the image and it may lead to overfitting"
      ],
      "metadata": {
        "id": "uRsoeTt69CtM"
      }
    },
    {
      "cell_type": "markdown",
      "source": [
        "#Till now we were giving structured data if we will have unstructured data in the form of images then we have to use  convolutional network.\n",
        "\n",
        "# Convolutional Network\n",
        "We built a network that accepts a normalized pixel value.CNN applies filter /kernels to get feature map.\n",
        "\n"
      ],
      "metadata": {
        "id": "Zu-yansE9TGb"
      }
    },
    {
      "cell_type": "code",
      "source": [
        "#Building CNN\n",
        "import tensorflow\n",
        "from keras.preprocessing.image import ImageDataGenerator\n",
        "from keras.layers import Conv2D,MaxPooling2D,ZeroPadding2D,GlobalAveragePooling2D,Flatten #libraries which will be used during making Conv layer\n",
        "from keras.layers.normalization.batch_normalization import BatchNormalization #for normalizing the output values"
      ],
      "metadata": {
        "id": "pdWZQcmN82CP"
      },
      "execution_count": 24,
      "outputs": []
    },
    {
      "cell_type": "code",
      "source": [
        "#Reload MNIST Dataset\n",
        "(X_train,y_train),(X_test,y_test)=mnist.load_data()"
      ],
      "metadata": {
        "id": "_Hg1XQGO_z7d"
      },
      "execution_count": 25,
      "outputs": []
    },
    {
      "cell_type": "code",
      "source": [
        "X_train=X_train.reshape(60000,28,28,1) #single channel because we are having black images so there is only one channel\n",
        "X_test=X_test.reshape(10000,28,28,1)   \n",
        "\n",
        "X_train=X_train.astype('float32') # changing integer into 32 bit floating point\n",
        "X_test=X_test.astype('float32')\n",
        "# NOrmalizing here formulae is different to ml the input will be between 0 and 1\n",
        "X_train/=255\n",
        "X_test/=255\n",
        "\n",
        "print(\"Training matrix shape\",X_train.shape)\n",
        "print(\"testing matrix shape\",X_test.shape)"
      ],
      "metadata": {
        "colab": {
          "base_uri": "https://localhost:8080/"
        },
        "id": "wc7SUPATBu5z",
        "outputId": "57e00e51-c386-4815-d9d4-23c661ff2efb"
      },
      "execution_count": 26,
      "outputs": [
        {
          "output_type": "stream",
          "name": "stdout",
          "text": [
            "Training matrix shape (60000, 28, 28, 1)\n",
            "testing matrix shape (10000, 28, 28, 1)\n"
          ]
        }
      ]
    },
    {
      "cell_type": "code",
      "source": [
        "#One hot encoding\n",
        "# we have to encode the vector to binary values so that model can easily classify the labels\n",
        "nb_classes=10 # number of unique digits\n",
        "\n",
        "Y_train=np_utils.to_categorical(y_train,nb_classes) \n",
        "Y_test=np_utils.to_categorical(y_test,nb_classes)"
      ],
      "metadata": {
        "id": "fyEwEva2Cc-o"
      },
      "execution_count": 27,
      "outputs": []
    },
    {
      "cell_type": "code",
      "source": [
        "model=Sequential() #Building model\n"
      ],
      "metadata": {
        "id": "hOMCkD-NDXkH"
      },
      "execution_count": 28,
      "outputs": []
    },
    {
      "cell_type": "code",
      "source": [
        " #Convolutional Layer1\n",
        " model.add(Conv2D(32,(3,3),input_shape=(28,28,1))) #32 kernels size is 3x3 28 x 28 gray scale images"
      ],
      "metadata": {
        "id": "HcEvEzVoKYDS"
      },
      "execution_count": 29,
      "outputs": []
    },
    {
      "cell_type": "code",
      "source": [
        "model.add(BatchNormalization(axis=-1)) #normalize each feture before Activation"
      ],
      "metadata": {
        "id": "5qkLeOb7SQ_Z"
      },
      "execution_count": 30,
      "outputs": []
    },
    {
      "cell_type": "markdown",
      "source": [
        "Why axis=-1? why batch normalization?\n",
        "\n",
        "Batch normaliztion helps to bringing the output in the range with mean close to zero and standard deviation close to 1.It will increase the training speed.\n",
        "Reduces internal covariant shift-Covariate shift refers to the change in the input distribution to a learning system. In the case of deep networks, the input to each layer is affected by parameters in all the input layers. So even small changes to the network get amplified down the network. This leads to change in the input distribution to internal layers of the deep network and is known as internal covariate shift.\n",
        "\n",
        "\n",
        "\n",
        "The axis argument is the axis for which the mean and standard deviation is calculated. That is, it averages over every axis except that specified. So ‘axis=-1’ means to calculate the mean and std dev for each item in the last axis."
      ],
      "metadata": {
        "id": "jxeUaWYSS3Qm"
      }
    },
    {
      "cell_type": "code",
      "source": [
        "convLayer01=Activation('relu') #activation function"
      ],
      "metadata": {
        "id": "bSLPOclDSlOl"
      },
      "execution_count": 31,
      "outputs": []
    },
    {
      "cell_type": "code",
      "source": [
        "model.add(convLayer01) #adding conv layer to the model"
      ],
      "metadata": {
        "id": "T0B3KHCATMKw"
      },
      "execution_count": 32,
      "outputs": []
    },
    {
      "cell_type": "code",
      "source": [
        " #Convolutional Layer2\n",
        "model.add(Conv2D(32,(3,3))) #32 kernels size \n",
        "model.add(BatchNormalization(axis=-1))\n",
        "model.add(Activation('relu')) #activation\n",
        "convLayer02=MaxPooling2D(pool_size=(2,2))\n",
        "model.add(convLayer02) #adding conv layer to the model\n"
      ],
      "metadata": {
        "id": "fs17O8ZTTTBH"
      },
      "execution_count": 33,
      "outputs": []
    },
    {
      "cell_type": "code",
      "source": [
        " #Convolutional Layer3\n",
        "model.add(Conv2D(64,(3,3))) #64 kernels size is 3x3 28 x 28 gray scale images\n",
        "model.add(BatchNormalization(axis=-1))\n",
        "convLayer03=Activation('relu') #activation\n",
        "model.add(convLayer03) #adding conv layer to the model\n"
      ],
      "metadata": {
        "id": "N1j5MZ0AUBd0"
      },
      "execution_count": 34,
      "outputs": []
    },
    {
      "cell_type": "code",
      "source": [
        " #Convolutional Layer4\n",
        "model.add(Conv2D(64,(3,3))) #64 kernels size is 3x3 28 x 28 gray scale images\n",
        "model.add(BatchNormalization(axis=-1))\n",
        "model.add(Activation('relu')) #activation\n",
        "convLayer04=MaxPooling2D(pool_size=(2,2))\n",
        "model.add(convLayer04) #adding conv layer to the model\n",
        "model.add(Flatten())"
      ],
      "metadata": {
        "id": "z-QqKqznUkb0"
      },
      "execution_count": 35,
      "outputs": []
    },
    {
      "cell_type": "code",
      "source": [
        "#Fully Connected Layer 5\n",
        "model.add(Dense(512)) #512 FCN\n",
        "model.add(BatchNormalization())\n",
        "model.add(Activation('relu'))"
      ],
      "metadata": {
        "id": "En3DTZ9vU8sz"
      },
      "execution_count": 36,
      "outputs": []
    },
    {
      "cell_type": "code",
      "source": [
        "#Final Output Layer 6\n",
        "model.add(Dropout(0.2))  #20% dropout of random\n",
        "model.add(Dense(10))     # final 10 neurons because we are having 10 class labels\n",
        "model.add(Activation('softmax')) #softmax activation"
      ],
      "metadata": {
        "id": "pnMVvHtbWG3b"
      },
      "execution_count": 37,
      "outputs": []
    },
    {
      "cell_type": "code",
      "source": [
        "model.summary()"
      ],
      "metadata": {
        "colab": {
          "base_uri": "https://localhost:8080/"
        },
        "id": "FdTzQaBxW0bA",
        "outputId": "c005c11d-c704-4ab7-f392-90d9262f9c72"
      },
      "execution_count": 38,
      "outputs": [
        {
          "output_type": "stream",
          "name": "stdout",
          "text": [
            "Model: \"sequential_1\"\n",
            "_________________________________________________________________\n",
            " Layer (type)                Output Shape              Param #   \n",
            "=================================================================\n",
            " conv2d (Conv2D)             (None, 26, 26, 32)        320       \n",
            "                                                                 \n",
            " batch_normalization (BatchN  (None, 26, 26, 32)       128       \n",
            " ormalization)                                                   \n",
            "                                                                 \n",
            " activation_3 (Activation)   (None, 26, 26, 32)        0         \n",
            "                                                                 \n",
            " conv2d_1 (Conv2D)           (None, 24, 24, 32)        9248      \n",
            "                                                                 \n",
            " batch_normalization_1 (Batc  (None, 24, 24, 32)       128       \n",
            " hNormalization)                                                 \n",
            "                                                                 \n",
            " activation_4 (Activation)   (None, 24, 24, 32)        0         \n",
            "                                                                 \n",
            " max_pooling2d (MaxPooling2D  (None, 12, 12, 32)       0         \n",
            " )                                                               \n",
            "                                                                 \n",
            " conv2d_2 (Conv2D)           (None, 10, 10, 64)        18496     \n",
            "                                                                 \n",
            " batch_normalization_2 (Batc  (None, 10, 10, 64)       256       \n",
            " hNormalization)                                                 \n",
            "                                                                 \n",
            " activation_5 (Activation)   (None, 10, 10, 64)        0         \n",
            "                                                                 \n",
            " conv2d_3 (Conv2D)           (None, 8, 8, 64)          36928     \n",
            "                                                                 \n",
            " batch_normalization_3 (Batc  (None, 8, 8, 64)         256       \n",
            " hNormalization)                                                 \n",
            "                                                                 \n",
            " activation_6 (Activation)   (None, 8, 8, 64)          0         \n",
            "                                                                 \n",
            " max_pooling2d_1 (MaxPooling  (None, 4, 4, 64)         0         \n",
            " 2D)                                                             \n",
            "                                                                 \n",
            " flatten (Flatten)           (None, 1024)              0         \n",
            "                                                                 \n",
            " dense_3 (Dense)             (None, 512)               524800    \n",
            "                                                                 \n",
            " batch_normalization_4 (Batc  (None, 512)              2048      \n",
            " hNormalization)                                                 \n",
            "                                                                 \n",
            " activation_7 (Activation)   (None, 512)               0         \n",
            "                                                                 \n",
            " dropout_2 (Dropout)         (None, 512)               0         \n",
            "                                                                 \n",
            " dense_4 (Dense)             (None, 10)                5130      \n",
            "                                                                 \n",
            " activation_8 (Activation)   (None, 10)                0         \n",
            "                                                                 \n",
            "=================================================================\n",
            "Total params: 597,738\n",
            "Trainable params: 596,330\n",
            "Non-trainable params: 1,408\n",
            "_________________________________________________________________\n"
          ]
        }
      ]
    },
    {
      "cell_type": "code",
      "source": [
        "# We will use the adam optimizer for optimizing the weights and biases\n",
        "# we are using cross entropy as loss function because our problem is of multi classification\n",
        "model.compile(loss='categorical_crossentropy',optimizer='adam',metrics=['accuracy'])"
      ],
      "metadata": {
        "id": "HUdG1EU3Xa22"
      },
      "execution_count": 39,
      "outputs": []
    },
    {
      "cell_type": "code",
      "source": [
        "# data augmentation prevents overfitting by slightly changing the data randomly\n",
        "# Keras has a great built-in feature to do automatic augmentation\n",
        "#Reshaping the images so that we can use same images for model validation rather than taking images from the training or test set.\n",
        "gen = ImageDataGenerator(rotation_range=8, width_shift_range=0.08,\n",
        "                         shear_range=0.3,\n",
        "                         height_shift_range=0.08, zoom_range=0.08)\n",
        "test_gen = ImageDataGenerator()"
      ],
      "metadata": {
        "id": "ilh6jmJBXoW4"
      },
      "execution_count": 44,
      "outputs": []
    },
    {
      "cell_type": "code",
      "source": [
        "# We can then feed our augmented data in batches\n",
        "#Besides loss function consideration as before\n",
        "# this method actually results in significant memory savings\n",
        "#because we are actually loading the data into the networks in batces\n",
        "\n",
        "\n",
        "train_generator=gen.flow(X_train,Y_train,batch_size=128)\n",
        "test_generator=test_gen.flow(X_test,Y_test,batch_size=128)"
      ],
      "metadata": {
        "id": "kkjiE4uoYLp4"
      },
      "execution_count": 41,
      "outputs": []
    },
    {
      "cell_type": "markdown",
      "source": [],
      "metadata": {
        "id": "7ZaO7KuMhTWS"
      }
    },
    {
      "cell_type": "code",
      "source": [
        "#instead of fit we are using fit generator\n",
        "\n",
        "\n",
        "\n",
        "\n",
        "\n",
        "model.fit_generator(train_generator,steps_per_epoch=60000//128,epochs=5,verbose=1,\n",
        "                validation_data=test_generator,\n",
        "                validation_steps=10000//128    )"
      ],
      "metadata": {
        "colab": {
          "base_uri": "https://localhost:8080/"
        },
        "id": "utDBFqg4Y43F",
        "outputId": "3546e22e-d93b-4fba-94d2-5b37907e70e1"
      },
      "execution_count": 42,
      "outputs": [
        {
          "output_type": "stream",
          "name": "stdout",
          "text": [
            "Epoch 1/5\n"
          ]
        },
        {
          "output_type": "stream",
          "name": "stderr",
          "text": [
            "/usr/local/lib/python3.7/dist-packages/ipykernel_launcher.py:9: UserWarning: `Model.fit_generator` is deprecated and will be removed in a future version. Please use `Model.fit`, which supports generators.\n",
            "  if __name__ == '__main__':\n"
          ]
        },
        {
          "output_type": "stream",
          "name": "stdout",
          "text": [
            "468/468 [==============================] - 27s 41ms/step - loss: 0.1318 - accuracy: 0.9587 - val_loss: 0.0599 - val_accuracy: 0.9823\n",
            "Epoch 2/5\n",
            "468/468 [==============================] - 19s 40ms/step - loss: 0.0485 - accuracy: 0.9851 - val_loss: 0.1156 - val_accuracy: 0.9671\n",
            "Epoch 3/5\n",
            "468/468 [==============================] - 19s 41ms/step - loss: 0.0377 - accuracy: 0.9881 - val_loss: 0.0198 - val_accuracy: 0.9934\n",
            "Epoch 4/5\n",
            "468/468 [==============================] - 19s 41ms/step - loss: 0.0353 - accuracy: 0.9889 - val_loss: 0.0493 - val_accuracy: 0.9833\n",
            "Epoch 5/5\n",
            "468/468 [==============================] - 20s 42ms/step - loss: 0.0323 - accuracy: 0.9897 - val_loss: 0.0280 - val_accuracy: 0.9913\n"
          ]
        },
        {
          "output_type": "execute_result",
          "data": {
            "text/plain": [
              "<keras.callbacks.History at 0x7f7bc5b2ac50>"
            ]
          },
          "metadata": {},
          "execution_count": 42
        }
      ]
    },
    {
      "cell_type": "code",
      "source": [
        "score=model.evaluate(X_test,Y_test)\n",
        "print('test score:',score[0])\n",
        "print('test accuracy:',score[1])"
      ],
      "metadata": {
        "colab": {
          "base_uri": "https://localhost:8080/"
        },
        "id": "kgBYeeMAbHFn",
        "outputId": "78022ccd-6ae3-4683-9218-fd90f5cf40d6"
      },
      "execution_count": 43,
      "outputs": [
        {
          "output_type": "stream",
          "name": "stdout",
          "text": [
            "313/313 [==============================] - 1s 4ms/step - loss: 0.0282 - accuracy: 0.9912\n",
            "test score: 0.028170956298708916\n",
            "test accuracy: 0.9911999702453613\n"
          ]
        }
      ]
    },
    {
      "cell_type": "code",
      "source": [],
      "metadata": {
        "id": "n9yBgLbOgdbB"
      },
      "execution_count": 43,
      "outputs": []
    }
  ]
}